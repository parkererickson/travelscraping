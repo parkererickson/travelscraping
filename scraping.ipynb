{
 "cells": [
  {
   "cell_type": "code",
   "execution_count": 14,
   "metadata": {},
   "outputs": [],
   "source": [
    "import urllib2\n",
    "from bs4 import BeautifulSoup as bs"
   ]
  },
  {
   "cell_type": "code",
   "execution_count": 15,
   "metadata": {},
   "outputs": [],
   "source": [
    "url = 'https://en.wikivoyage.org/wiki/Minneapolis'\n",
    "page = urllib2.urlopen(url)\n",
    "soup = bs(page, \"html.parser\")"
   ]
  },
  {
   "cell_type": "code",
   "execution_count": 16,
   "metadata": {},
   "outputs": [
    {
     "name": "stdout",
     "output_type": "stream",
     "text": [
      "<div id=\"region_list\"><span style=\"float: right; text-align:left\"><div class=\"thumb tright\"><div class=\"thumbinner\" style=\"width:252px;\"><a class=\"image\" href=\"/wiki/File:Minneapolis_District_Draft_1.png\"><img alt=\"\" class=\"thumbimage\" data-file-height=\"588\" data-file-width=\"404\" height=\"364\" src=\"//upload.wikimedia.org/wikipedia/commons/thumb/3/31/Minneapolis_District_Draft_1.png/250px-Minneapolis_District_Draft_1.png\" srcset=\"//upload.wikimedia.org/wikipedia/commons/thumb/3/31/Minneapolis_District_Draft_1.png/375px-Minneapolis_District_Draft_1.png 1.5x, //upload.wikimedia.org/wikipedia/commons/3/31/Minneapolis_District_Draft_1.png 2x\" width=\"250\"/></a> <div class=\"thumbcaption\"><div class=\"magnify\"><a class=\"internal\" href=\"/wiki/File:Minneapolis_District_Draft_1.png\" title=\"Enlarge\"></a></div>Districts of Minneapolis</div></div></div></span>\n",
      "<table style=\"border-collapse: separate; border-spacing: 2px;\">\n",
      "<tbody><tr>\n",
      "<td style=\"width:32px;background-color:#0000ff;\"> </td>\n",
      "<td><b><a href=\"/wiki/Minneapolis/Downtown\" title=\"Minneapolis/Downtown\">Downtown</a></b> <br/>The central business district, major sports and theater venues, the city's main clubbing area in the Warehouse District, Loring Park, Elliot Park, and the historic mill ruins along the <a href=\"/wiki/Mississippi_River\" title=\"Mississippi River\">Mississippi River</a>.\n",
      "</td></tr></tbody></table>\n",
      "<table style=\"border-collapse: separate; border-spacing: 2px;\">\n",
      "<tbody><tr>\n",
      "<td style=\"width:32px;background-color:#ff00ff;\"> </td>\n",
      "<td><b><a href=\"/wiki/Minneapolis/South\" title=\"Minneapolis/South\">South</a></b> <br/>West Bank, Seward, Midtown, Nokomis, Longfellow, and Minnehaha Park\n",
      "</td></tr></tbody></table>\n",
      "<table style=\"border-collapse: separate; border-spacing: 2px;\">\n",
      "<tbody><tr>\n",
      "<td style=\"width:32px;background-color:#ff0000;\"> </td>\n",
      "<td><b><a href=\"/wiki/Minneapolis/Southwest\" title=\"Minneapolis/Southwest\">Southwest</a></b> <br/>Uptown, Lyn-Lake, Linden Hills, Eat Street, and the Chain of Lakes\n",
      "</td></tr></tbody></table>\n",
      "<table style=\"border-collapse: separate; border-spacing: 2px;\">\n",
      "<tbody><tr>\n",
      "<td style=\"width:32px;background-color:#ffff00;\"> </td>\n",
      "<td><b><a href=\"/wiki/Minneapolis/North\" title=\"Minneapolis/North\">North</a></b> <br/>Near North, Camden, Bryn Mawr and Theodore Wirth Park\n",
      "</td></tr></tbody></table>\n",
      "<table style=\"border-collapse: separate; border-spacing: 2px;\">\n",
      "<tbody><tr>\n",
      "<td style=\"width:32px;background-color:#00ff00;\"> </td>\n",
      "<td><b><a href=\"/wiki/Minneapolis/Northeast\" title=\"Minneapolis/Northeast\">Northeast</a></b> <br/>The birthplace of Minneapolis in Old Saint Anthony, old victorian houses on Nicollet Island, and further north the old working class enclaves of Northeast that are now home to a growing artist community.\n",
      "</td></tr></tbody></table>\n",
      "<table style=\"border-collapse: separate; border-spacing: 2px;\">\n",
      "<tbody><tr>\n",
      "<td style=\"width:32px;background-color:#ff6600;\"> </td>\n",
      "<td><b><a href=\"/wiki/Minneapolis/Southeast\" title=\"Minneapolis/Southeast\">Southeast</a></b> <br/>Dinkytown, Prospect Park, Como, and the University of Minnesota\n",
      "</td></tr></tbody></table>\n",
      "</div>\n"
     ]
    }
   ],
   "source": [
    "districts = soup.find('div',attrs={'id': 'region_list'} )\n",
    "print districts"
   ]
  },
  {
   "cell_type": "code",
   "execution_count": 17,
   "metadata": {
    "scrolled": false
   },
   "outputs": [
    {
     "name": "stdout",
     "output_type": "stream",
     "text": [
      "[<a class=\"image\" href=\"/wiki/File:Minneapolis_District_Draft_1.png\"><img alt=\"\" class=\"thumbimage\" data-file-height=\"588\" data-file-width=\"404\" height=\"364\" src=\"//upload.wikimedia.org/wikipedia/commons/thumb/3/31/Minneapolis_District_Draft_1.png/250px-Minneapolis_District_Draft_1.png\" srcset=\"//upload.wikimedia.org/wikipedia/commons/thumb/3/31/Minneapolis_District_Draft_1.png/375px-Minneapolis_District_Draft_1.png 1.5x, //upload.wikimedia.org/wikipedia/commons/3/31/Minneapolis_District_Draft_1.png 2x\" width=\"250\"/></a>, <a class=\"internal\" href=\"/wiki/File:Minneapolis_District_Draft_1.png\" title=\"Enlarge\"></a>, <a href=\"/wiki/Minneapolis/Downtown\" title=\"Minneapolis/Downtown\">Downtown</a>, <a href=\"/wiki/Mississippi_River\" title=\"Mississippi River\">Mississippi River</a>, <a href=\"/wiki/Minneapolis/South\" title=\"Minneapolis/South\">South</a>, <a href=\"/wiki/Minneapolis/Southwest\" title=\"Minneapolis/Southwest\">Southwest</a>, <a href=\"/wiki/Minneapolis/North\" title=\"Minneapolis/North\">North</a>, <a href=\"/wiki/Minneapolis/Northeast\" title=\"Minneapolis/Northeast\">Northeast</a>, <a href=\"/wiki/Minneapolis/Southeast\" title=\"Minneapolis/Southeast\">Southeast</a>]\n"
     ]
    }
   ],
   "source": [
    "neighborhoods = districts.findAll('a')\n",
    "print neighborhoods"
   ]
  },
  {
   "cell_type": "code",
   "execution_count": null,
   "metadata": {},
   "outputs": [],
   "source": []
  }
 ],
 "metadata": {
  "kernelspec": {
   "display_name": "Python 2",
   "language": "python",
   "name": "python2"
  },
  "language_info": {
   "codemirror_mode": {
    "name": "ipython",
    "version": 2
   },
   "file_extension": ".py",
   "mimetype": "text/x-python",
   "name": "python",
   "nbconvert_exporter": "python",
   "pygments_lexer": "ipython2",
   "version": "2.7.12"
  }
 },
 "nbformat": 4,
 "nbformat_minor": 2
}
