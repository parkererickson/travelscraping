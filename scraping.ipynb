{
 "cells": [
  {
   "cell_type": "code",
   "execution_count": 1,
   "metadata": {},
   "outputs": [],
   "source": [
    "import urllib2\n",
    "from bs4 import BeautifulSoup as bs"
   ]
  },
  {
   "cell_type": "code",
   "execution_count": 2,
   "metadata": {},
   "outputs": [],
   "source": [
    "url = 'https://en.wikivoyage.org/wiki/Chicago'\n",
    "page = urllib2.urlopen(url)\n",
    "soup = bs(page, \"html.parser\")"
   ]
  },
  {
   "cell_type": "code",
   "execution_count": 3,
   "metadata": {},
   "outputs": [
    {
     "name": "stdout",
     "output_type": "stream",
     "text": [
      "<div id=\"region_list\"><span style=\"float: right; text-align:left\"><div class=\"thumb tright\"><div class=\"thumbinner\" style=\"width:403px;\"><a class=\"image\" href=\"/wiki/File:Integrated_Chicago_districts_map.png\"><img alt=\"\" class=\"thumbimage\" data-file-height=\"3008\" data-file-width=\"2451\" height=\"492\" src=\"//upload.wikimedia.org/wikipedia/commons/thumb/1/1f/Integrated_Chicago_districts_map.png/401px-Integrated_Chicago_districts_map.png\" srcset=\"//upload.wikimedia.org/wikipedia/commons/thumb/1/1f/Integrated_Chicago_districts_map.png/602px-Integrated_Chicago_districts_map.png 1.5x, //upload.wikimedia.org/wikipedia/commons/thumb/1/1f/Integrated_Chicago_districts_map.png/802px-Integrated_Chicago_districts_map.png 2x\" width=\"401\"/></a> <div class=\"thumbcaption\"><div class=\"magnify\"><a class=\"internal\" href=\"/wiki/File:Integrated_Chicago_districts_map.png\" title=\"Enlarge\"></a></div>Districts of Chicago</div></div></div></span>\n",
      "<table style=\"border-collapse: separate; border-spacing: 2px;\">\n",
      "<tbody><tr>\n",
      "<td style=\"width:32px;background-color:#b569b5;\"> </td>\n",
      "<td><b>Downtown</b> (<a href=\"/wiki/Chicago/Loop\" title=\"Chicago/Loop\">The Loop</a>, <a href=\"/wiki/Chicago/Near_North\" title=\"Chicago/Near North\">Near North</a>, <a href=\"/wiki/Chicago/Near_South\" title=\"Chicago/Near South\">Near South</a>)<br/><i>The</i> center of Chicago for work and play, with shopping, skyscrapers, big theaters, and the city's most famous travel sights\n",
      "</td></tr></tbody></table>\n",
      "<table style=\"border-collapse: separate; border-spacing: 2px;\">\n",
      "<tbody><tr>\n",
      "<td style=\"width:32px;background-color:#a4a460;\"> </td>\n",
      "<td><b>North Side</b> (<a href=\"/wiki/Chicago/Lakeview-North_Center\" title=\"Chicago/Lakeview-North Center\">Lakeview</a>, <a href=\"/wiki/Chicago/Lakeview-North_Center\" title=\"Chicago/Lakeview-North Center\">Boystown</a>, <a href=\"/wiki/Chicago/Lincoln_Park-Old_Town\" title=\"Chicago/Lincoln Park-Old Town\">Lincoln Park</a>, <a href=\"/wiki/Chicago/Lincoln_Park-Old_Town\" title=\"Chicago/Lincoln Park-Old Town\">Old Town</a>)<br/>Upscale neighborhoods with entertainment aplenty in storefront theaters and the Friendly Confines of Wrigley Field, along with a <i>ton</i> of bars and clubs, and one of the largest LGBT communities in the nation\n",
      "</td></tr></tbody></table>\n",
      "<table style=\"border-collapse: separate; border-spacing: 2px;\">\n",
      "<tbody><tr>\n",
      "<td style=\"width:32px;background-color:#459745;\"> </td>\n",
      "<td><b>South Side</b> (<a href=\"/wiki/Chicago/Hyde_Park\" title=\"Chicago/Hyde Park\">Hyde Park</a>, <a href=\"/wiki/Chicago/Bronzeville\" title=\"Chicago/Bronzeville\">Bronzeville</a>, <a href=\"/wiki/Chicago/Bridgeport-Chinatown\" title=\"Chicago/Bridgeport-Chinatown\">Bridgeport-Chinatown</a>, <a href=\"/wiki/Chicago/Chatham-South_Shore\" title=\"Chicago/Chatham-South Shore\">Chatham-South Shore</a>)<br/>The historic Black Metropolis, brainy Hyde Park and the University of Chicago, Chinatown, the White Sox, soul food, and the real Chicago blues\n",
      "</td></tr></tbody></table>\n",
      "<table style=\"border-collapse: separate; border-spacing: 2px;\">\n",
      "<tbody><tr>\n",
      "<td style=\"width:32px;background-color:#67b7b7;\"> </td>\n",
      "<td><b>West Side</b> (<a href=\"/wiki/Chicago/Wicker_Park\" title=\"Chicago/Wicker Park\">Wicker Park</a>, <a href=\"/wiki/Chicago/Logan-Bucktown\" title=\"Chicago/Logan-Bucktown\">Logan Square</a>, <a href=\"/wiki/Chicago/Near_West_Side\" title=\"Chicago/Near West Side\">Near West Side</a>, <a href=\"/wiki/Chicago/Pilsen\" title=\"Chicago/Pilsen\">Pilsen</a>)<br/>Ethnic enclaves, dive bars, and hipsters abound on the fashionably rough side of town\n",
      "</td></tr></tbody></table>\n",
      "<table style=\"border-collapse: separate; border-spacing: 2px;\">\n",
      "<tbody><tr>\n",
      "<td style=\"width:32px;background-color:#487db8;\"> </td>\n",
      "<td><b>Far North Side</b> (<a href=\"/wiki/Chicago/Uptown\" title=\"Chicago/Uptown\">Uptown</a>, <a href=\"/wiki/Chicago/North_Lincoln\" title=\"Chicago/North Lincoln\">North Lincoln</a>, <a href=\"/wiki/Chicago/Rogers_Park\" title=\"Chicago/Rogers Park\">Rogers Park</a>)<br/>Ultra-hip and laid-back, with miles of beaches and some of the most vibrant immigrant communities in the country\n",
      "</td></tr></tbody></table>\n",
      "<table style=\"border-collapse: separate; border-spacing: 2px;\">\n",
      "<tbody><tr>\n",
      "<td style=\"width:32px;background-color:#a5c077;\"> </td>\n",
      "<td><b><a href=\"/wiki/Chicago/Far_West_Side\" title=\"Chicago/Far West Side\">Far West Side</a></b> (Little Village, Garfield Park, Humboldt Park, Austin)<br/>So far off the beaten tourist track you might not find your way back, but that's OK given all the great food, a couple of top blues clubs, and enormous parks.\n",
      "</td></tr></tbody></table>\n",
      "<table style=\"border-collapse: separate; border-spacing: 2px;\">\n",
      "<tbody><tr>\n",
      "<td style=\"width:32px;background-color:#c9815e;\"> </td>\n",
      "<td><b><a href=\"/wiki/Chicago/Southwest_Side\" title=\"Chicago/Southwest Side\">Southwest Side</a></b> (Back of the Yards, Marquette Park, Midway)<br/>Former home to the massive meatpacking district of the Union Stockyards, huge Polish and Mexican neighborhoods, and Midway Airport\n",
      "</td></tr></tbody></table>\n",
      "<table style=\"border-collapse: separate; border-spacing: 2px;\">\n",
      "<tbody><tr>\n",
      "<td style=\"width:32px;background-color:#a76767;\"> </td>\n",
      "<td><b><a href=\"/wiki/Chicago/Far_Northwest_Side\" title=\"Chicago/Far Northwest Side\">Far Northwest Side</a></b> (Avondale, Irving Park, Portage Park, Jefferson Park)<br/>Polish Village, historic homes and theaters, and some undiscovered gems in the neighborhoods near <a href=\"/wiki/O%27Hare_International_Airport\" title=\"O'Hare International Airport\">O'Hare International Airport</a>\n",
      "</td></tr></tbody></table>\n",
      "<table style=\"border-collapse: separate; border-spacing: 2px;\">\n",
      "<tbody><tr>\n",
      "<td style=\"width:32px;background-color:#8888dc;\"> </td>\n",
      "<td><b><a href=\"/wiki/Chicago/Far_Southeast_Side\" title=\"Chicago/Far Southeast Side\">Far Southeast Side</a></b> (Historic Pullman, East Side, South Chicago, Hegewisch)<br/>The giant, industrial underbelly of Chicago, home to one large tourist draw: the historic Pullman District\n",
      "</td></tr></tbody></table>\n",
      "<table style=\"border-collapse: separate; border-spacing: 2px;\">\n",
      "<tbody><tr>\n",
      "<td style=\"width:32px;background-color:#37a782;\"> </td>\n",
      "<td><b><a href=\"/wiki/Chicago/Far_Southwest_Side\" title=\"Chicago/Far Southwest Side\">Far Southwest Side</a></b> (Beverly, Mount Greenwood)<br/>Ireland in Chicago: authentic Irish pubs, brogues, galleries, and the odd haunted castle, all extremely far from the city center\n",
      "</td></tr></tbody></table>\n",
      "</div>\n"
     ]
    }
   ],
   "source": [
    "districts = soup.find('div',attrs={'id': 'region_list'} )\n",
    "print districts"
   ]
  },
  {
   "cell_type": "code",
   "execution_count": 4,
   "metadata": {},
   "outputs": [
    {
     "name": "stdout",
     "output_type": "stream",
     "text": [
      "[<td style=\"width:32px;background-color:#b569b5;\">\\xa0</td>, <td><b>Downtown</b> (<a href=\"/wiki/Chicago/Loop\" title=\"Chicago/Loop\">The Loop</a>, <a href=\"/wiki/Chicago/Near_North\" title=\"Chicago/Near North\">Near North</a>, <a href=\"/wiki/Chicago/Near_South\" title=\"Chicago/Near South\">Near South</a>)<br/><i>The</i> center of Chicago for work and play, with shopping, skyscrapers, big theaters, and the city's most famous travel sights\\n</td>, <td style=\"width:32px;background-color:#a4a460;\">\\xa0</td>, <td><b>North Side</b> (<a href=\"/wiki/Chicago/Lakeview-North_Center\" title=\"Chicago/Lakeview-North Center\">Lakeview</a>, <a href=\"/wiki/Chicago/Lakeview-North_Center\" title=\"Chicago/Lakeview-North Center\">Boystown</a>, <a href=\"/wiki/Chicago/Lincoln_Park-Old_Town\" title=\"Chicago/Lincoln Park-Old Town\">Lincoln Park</a>, <a href=\"/wiki/Chicago/Lincoln_Park-Old_Town\" title=\"Chicago/Lincoln Park-Old Town\">Old Town</a>)<br/>Upscale neighborhoods with entertainment aplenty in storefront theaters and the Friendly Confines of Wrigley Field, along with a <i>ton</i> of bars and clubs, and one of the largest LGBT communities in the nation\\n</td>, <td style=\"width:32px;background-color:#459745;\">\\xa0</td>, <td><b>South Side</b> (<a href=\"/wiki/Chicago/Hyde_Park\" title=\"Chicago/Hyde Park\">Hyde Park</a>, <a href=\"/wiki/Chicago/Bronzeville\" title=\"Chicago/Bronzeville\">Bronzeville</a>, <a href=\"/wiki/Chicago/Bridgeport-Chinatown\" title=\"Chicago/Bridgeport-Chinatown\">Bridgeport-Chinatown</a>, <a href=\"/wiki/Chicago/Chatham-South_Shore\" title=\"Chicago/Chatham-South Shore\">Chatham-South Shore</a>)<br/>The historic Black Metropolis, brainy Hyde Park and the University of Chicago, Chinatown, the White Sox, soul food, and the real Chicago blues\\n</td>, <td style=\"width:32px;background-color:#67b7b7;\">\\xa0</td>, <td><b>West Side</b> (<a href=\"/wiki/Chicago/Wicker_Park\" title=\"Chicago/Wicker Park\">Wicker Park</a>, <a href=\"/wiki/Chicago/Logan-Bucktown\" title=\"Chicago/Logan-Bucktown\">Logan Square</a>, <a href=\"/wiki/Chicago/Near_West_Side\" title=\"Chicago/Near West Side\">Near West Side</a>, <a href=\"/wiki/Chicago/Pilsen\" title=\"Chicago/Pilsen\">Pilsen</a>)<br/>Ethnic enclaves, dive bars, and hipsters abound on the fashionably rough side of town\\n</td>, <td style=\"width:32px;background-color:#487db8;\">\\xa0</td>, <td><b>Far North Side</b> (<a href=\"/wiki/Chicago/Uptown\" title=\"Chicago/Uptown\">Uptown</a>, <a href=\"/wiki/Chicago/North_Lincoln\" title=\"Chicago/North Lincoln\">North Lincoln</a>, <a href=\"/wiki/Chicago/Rogers_Park\" title=\"Chicago/Rogers Park\">Rogers Park</a>)<br/>Ultra-hip and laid-back, with miles of beaches and some of the most vibrant immigrant communities in the country\\n</td>, <td style=\"width:32px;background-color:#a5c077;\">\\xa0</td>, <td><b><a href=\"/wiki/Chicago/Far_West_Side\" title=\"Chicago/Far West Side\">Far West Side</a></b> (Little Village, Garfield Park, Humboldt Park, Austin)<br/>So far off the beaten tourist track you might not find your way back, but that's OK given all the great food, a couple of top blues clubs, and enormous parks.\\n</td>, <td style=\"width:32px;background-color:#c9815e;\">\\xa0</td>, <td><b><a href=\"/wiki/Chicago/Southwest_Side\" title=\"Chicago/Southwest Side\">Southwest Side</a></b> (Back of the Yards, Marquette Park, Midway)<br/>Former home to the massive meatpacking district of the Union Stockyards, huge Polish and Mexican neighborhoods, and Midway Airport\\n</td>, <td style=\"width:32px;background-color:#a76767;\">\\xa0</td>, <td><b><a href=\"/wiki/Chicago/Far_Northwest_Side\" title=\"Chicago/Far Northwest Side\">Far Northwest Side</a></b> (Avondale, Irving Park, Portage Park, Jefferson Park)<br/>Polish Village, historic homes and theaters, and some undiscovered gems in the neighborhoods near <a href=\"/wiki/O%27Hare_International_Airport\" title=\"O'Hare International Airport\">O'Hare International Airport</a>\\n</td>, <td style=\"width:32px;background-color:#8888dc;\">\\xa0</td>, <td><b><a href=\"/wiki/Chicago/Far_Southeast_Side\" title=\"Chicago/Far Southeast Side\">Far Southeast Side</a></b> (Historic Pullman, East Side, South Chicago, Hegewisch)<br/>The giant, industrial underbelly of Chicago, home to one large tourist draw: the historic Pullman District\\n</td>, <td style=\"width:32px;background-color:#37a782;\">\\xa0</td>, <td><b><a href=\"/wiki/Chicago/Far_Southwest_Side\" title=\"Chicago/Far Southwest Side\">Far Southwest Side</a></b> (Beverly, Mount Greenwood)<br/>Ireland in Chicago: authentic Irish pubs, brogues, galleries, and the odd haunted castle, all extremely far from the city center\\n</td>]\n"
     ]
    }
   ],
   "source": [
    "neighborhoods = districts.findAll('td')\n",
    "print neighborhoods"
   ]
  },
  {
   "cell_type": "code",
   "execution_count": 8,
   "metadata": {},
   "outputs": [
    {
     "name": "stdout",
     "output_type": "stream",
     "text": [
      "[<a class=\"image\" href=\"/wiki/File:Integrated_Chicago_districts_map.png\"><img alt=\"\" class=\"thumbimage\" data-file-height=\"3008\" data-file-width=\"2451\" height=\"492\" src=\"//upload.wikimedia.org/wikipedia/commons/thumb/1/1f/Integrated_Chicago_districts_map.png/401px-Integrated_Chicago_districts_map.png\" srcset=\"//upload.wikimedia.org/wikipedia/commons/thumb/1/1f/Integrated_Chicago_districts_map.png/602px-Integrated_Chicago_districts_map.png 1.5x, //upload.wikimedia.org/wikipedia/commons/thumb/1/1f/Integrated_Chicago_districts_map.png/802px-Integrated_Chicago_districts_map.png 2x\" width=\"401\"/></a>, <a class=\"internal\" href=\"/wiki/File:Integrated_Chicago_districts_map.png\" title=\"Enlarge\"></a>, <a href=\"/wiki/Chicago/Loop\" title=\"Chicago/Loop\">The Loop</a>, <a href=\"/wiki/Chicago/Near_North\" title=\"Chicago/Near North\">Near North</a>, <a href=\"/wiki/Chicago/Near_South\" title=\"Chicago/Near South\">Near South</a>, <a href=\"/wiki/Chicago/Lakeview-North_Center\" title=\"Chicago/Lakeview-North Center\">Lakeview</a>, <a href=\"/wiki/Chicago/Lakeview-North_Center\" title=\"Chicago/Lakeview-North Center\">Boystown</a>, <a href=\"/wiki/Chicago/Lincoln_Park-Old_Town\" title=\"Chicago/Lincoln Park-Old Town\">Lincoln Park</a>, <a href=\"/wiki/Chicago/Lincoln_Park-Old_Town\" title=\"Chicago/Lincoln Park-Old Town\">Old Town</a>, <a href=\"/wiki/Chicago/Hyde_Park\" title=\"Chicago/Hyde Park\">Hyde Park</a>, <a href=\"/wiki/Chicago/Bronzeville\" title=\"Chicago/Bronzeville\">Bronzeville</a>, <a href=\"/wiki/Chicago/Bridgeport-Chinatown\" title=\"Chicago/Bridgeport-Chinatown\">Bridgeport-Chinatown</a>, <a href=\"/wiki/Chicago/Chatham-South_Shore\" title=\"Chicago/Chatham-South Shore\">Chatham-South Shore</a>, <a href=\"/wiki/Chicago/Wicker_Park\" title=\"Chicago/Wicker Park\">Wicker Park</a>, <a href=\"/wiki/Chicago/Logan-Bucktown\" title=\"Chicago/Logan-Bucktown\">Logan Square</a>, <a href=\"/wiki/Chicago/Near_West_Side\" title=\"Chicago/Near West Side\">Near West Side</a>, <a href=\"/wiki/Chicago/Pilsen\" title=\"Chicago/Pilsen\">Pilsen</a>, <a href=\"/wiki/Chicago/Uptown\" title=\"Chicago/Uptown\">Uptown</a>, <a href=\"/wiki/Chicago/North_Lincoln\" title=\"Chicago/North Lincoln\">North Lincoln</a>, <a href=\"/wiki/Chicago/Rogers_Park\" title=\"Chicago/Rogers Park\">Rogers Park</a>, <a href=\"/wiki/Chicago/Far_West_Side\" title=\"Chicago/Far West Side\">Far West Side</a>, <a href=\"/wiki/Chicago/Southwest_Side\" title=\"Chicago/Southwest Side\">Southwest Side</a>, <a href=\"/wiki/Chicago/Far_Northwest_Side\" title=\"Chicago/Far Northwest Side\">Far Northwest Side</a>, <a href=\"/wiki/O%27Hare_International_Airport\" title=\"O'Hare International Airport\">O'Hare International Airport</a>, <a href=\"/wiki/Chicago/Far_Southeast_Side\" title=\"Chicago/Far Southeast Side\">Far Southeast Side</a>, <a href=\"/wiki/Chicago/Far_Southwest_Side\" title=\"Chicago/Far Southwest Side\">Far Southwest Side</a>]\n"
     ]
    }
   ],
   "source": [
    "links = districts.findAll('a', href=True)\n",
    "print links\n",
    "for link in links"
   ]
  },
  {
   "cell_type": "code",
   "execution_count": null,
   "metadata": {},
   "outputs": [],
   "source": []
  }
 ],
 "metadata": {
  "kernelspec": {
   "display_name": "Python 2",
   "language": "python",
   "name": "python2"
  },
  "language_info": {
   "codemirror_mode": {
    "name": "ipython",
    "version": 2
   },
   "file_extension": ".py",
   "mimetype": "text/x-python",
   "name": "python",
   "nbconvert_exporter": "python",
   "pygments_lexer": "ipython2",
   "version": "2.7.12"
  }
 },
 "nbformat": 4,
 "nbformat_minor": 2
}
