{
 "cells": [
  {
   "cell_type": "code",
   "execution_count": 13,
   "metadata": {},
   "outputs": [],
   "source": [
    "import urllib2\n",
    "from bs4 import BeautifulSoup as bs\n",
    "city = \"San Francisco\""
   ]
  },
  {
   "cell_type": "code",
   "execution_count": 14,
   "metadata": {},
   "outputs": [
    {
     "name": "stdout",
     "output_type": "stream",
     "text": [
      "https://en.wikivoyage.org/wiki/San_Francisco\n"
     ]
    }
   ],
   "source": [
    "url = 'https://en.wikivoyage.org/wiki/'+city.replace(\" \",\"_\")\n",
    "print url\n",
    "page = urllib2.urlopen(url)\n",
    "soup = bs(page, \"html.parser\")"
   ]
  },
  {
   "cell_type": "code",
   "execution_count": 15,
   "metadata": {},
   "outputs": [
    {
     "name": "stdout",
     "output_type": "stream",
     "text": [
      "<div id=\"region_list\"><span style=\"float: right; text-align:left\"><div class=\"thumb tright\"><div class=\"thumbinner\" style=\"width:402px;\"><a class=\"image\" href=\"/wiki/File:San_Francisco_districts_map.png\"><img alt=\"\" class=\"thumbimage\" data-file-height=\"3008\" data-file-width=\"3115\" height=\"386\" src=\"//upload.wikimedia.org/wikipedia/commons/thumb/8/8a/San_Francisco_districts_map.png/400px-San_Francisco_districts_map.png\" srcset=\"//upload.wikimedia.org/wikipedia/commons/thumb/8/8a/San_Francisco_districts_map.png/600px-San_Francisco_districts_map.png 1.5x, //upload.wikimedia.org/wikipedia/commons/thumb/8/8a/San_Francisco_districts_map.png/800px-San_Francisco_districts_map.png 2x\" width=\"400\"/></a> <div class=\"thumbcaption\"><div class=\"magnify\"><a class=\"internal\" href=\"/wiki/File:San_Francisco_districts_map.png\" title=\"Enlarge\"></a></div>San Francisco's districts</div></div></div></span>\n",
      "<table style=\"border-collapse: separate; border-spacing: 2px;\">\n",
      "<tbody><tr>\n",
      "<td style=\"width:32px;background-color:#dcdc71;\"> </td>\n",
      "<td><b><a href=\"/wiki/San_Francisco/Golden_Gate\" title=\"San Francisco/Golden Gate\">Golden Gate</a></b> <br/>Fashionable neighborhoods, e.g., the Marina District, Cow Hollow, and Pacific Heights, with extensive views and historical landmarks — Fort Mason, The Presidio, and the iconic Golden Gate Bridge.\n",
      "</td></tr></tbody></table>\n",
      "<table style=\"border-collapse: separate; border-spacing: 2px;\">\n",
      "<tbody><tr>\n",
      "<td style=\"width:32px;background-color:#cc66cc;\"> </td>\n",
      "<td><b><a href=\"/wiki/San_Francisco/Fisherman%27s_Wharf\" title=\"San Francisco/Fisherman's Wharf\">Fisherman's Wharf</a></b> <br/>A touristy waterfront neighborhood which encompasses Ghirardelli Square, Pier 39, and the ferry launch to Alcatraz Island, as well as a plethora of seafood restaurants and souvenir stores.\n",
      "</td></tr></tbody></table>\n",
      "<table style=\"border-collapse: separate; border-spacing: 2px;\">\n",
      "<tbody><tr>\n",
      "<td style=\"width:32px;background-color:#6ca4ca;\"> </td>\n",
      "<td><b><a href=\"/wiki/San_Francisco/Nob_Hill-Russian_Hill\" title=\"San Francisco/Nob Hill-Russian Hill\">Nob Hill-Russian Hill</a></b> <br/>Two ritzy neighborhoods with upscale hotels, cable cars, panoramic views and steep inclines.\n",
      "</td></tr></tbody></table>\n",
      "<table style=\"border-collapse: separate; border-spacing: 2px;\">\n",
      "<tbody><tr>\n",
      "<td style=\"width:32px;background-color:#e8ba37;\"> </td>\n",
      "<td><b><a href=\"/wiki/San_Francisco/Chinatown-North_Beach\" title=\"San Francisco/Chinatown-North Beach\">Chinatown-North Beach</a></b> <br/>Two vibrant immigrant communities; the crowded and largest Chinatown outside of Asia next to the stylish laid back 'Little Italy', as well as Telegraph Hill and Coit Tower.\n",
      "</td></tr></tbody></table>\n",
      "<table style=\"border-collapse: separate; border-spacing: 2px;\">\n",
      "<tbody><tr>\n",
      "<td style=\"width:32px;background-color:#de6e6e;\"> </td>\n",
      "<td><b><a href=\"/wiki/San_Francisco/Union_Square-Financial_District\" title=\"San Francisco/Union Square-Financial District\">Union Square-Financial District</a></b> <br/>Union Square is the center of shopping, theater and art in the city, next to the many skyscrapers of downtown and Market Street.\n",
      "</td></tr></tbody></table>\n",
      "<table style=\"border-collapse: separate; border-spacing: 2px;\">\n",
      "<tbody><tr>\n",
      "<td style=\"width:32px;background-color:#817cc0;\"> </td>\n",
      "<td><b><a href=\"/wiki/San_Francisco/Civic_Center-Tenderloin\" title=\"San Francisco/Civic Center-Tenderloin\">Civic Center-Tenderloin</a></b> <br/>The neoclassical Civic Center next to the grit of the Tenderloin.  While the 'Loin' is grittier compared to its ritzier neighbors downtown, there is still plenty of interesting architecture and attractions to see here.\n",
      "</td></tr></tbody></table>\n",
      "<table style=\"border-collapse: separate; border-spacing: 2px;\">\n",
      "<tbody><tr>\n",
      "<td style=\"width:32px;background-color:#83b76b;\"> </td>\n",
      "<td><b><a href=\"/wiki/San_Francisco/SoMa\" title=\"San Francisco/SoMa\">SoMa <i>(South of Market)</i></a></b> <br/>A rapidly changing neighborhood of downtown that is the center of a lot of new construction, including new skyscrapers, some of the city's newest museums, and AT&amp;T Park, home of the San Francisco Giants.\n",
      "</td></tr></tbody></table>\n",
      "<table style=\"border-collapse: separate; border-spacing: 2px;\">\n",
      "<tbody><tr>\n",
      "<td style=\"width:32px;background-color:#c5a0c6;\"> </td>\n",
      "<td><b><a href=\"/wiki/San_Francisco/Western_Addition\" title=\"San Francisco/Western Addition\">Western Addition</a></b> <br/>A historic neighborhood with many Victorian homes that was once a hotbed of African-American culture. Within the area is also Japantown, once the center of San Francisco's Japanese population, still populated with many Japanese stores and restaurants, and hotels that cater to Japanese travelers.\n",
      "</td></tr></tbody></table>\n",
      "<table style=\"border-collapse: separate; border-spacing: 2px;\">\n",
      "<tbody><tr>\n",
      "<td style=\"width:32px;background-color:#8ed7d8;\"> </td>\n",
      "<td><b><a href=\"/wiki/San_Francisco/Haight\" title=\"San Francisco/Haight\">Haight</a></b> <br/>Famous for being the home of the Hippie movement, this once bohemian area is still an eclectic treasure.\n",
      "</td></tr></tbody></table>\n",
      "<table style=\"border-collapse: separate; border-spacing: 2px;\">\n",
      "<tbody><tr>\n",
      "<td style=\"width:32px;background-color:#a4c97d;\"> </td>\n",
      "<td><b><a href=\"/wiki/San_Francisco/The_Avenues\" title=\"San Francisco/The Avenues\">The Avenues</a></b> <br/>Includes both the foggy Sunset and Richmond Districts, separated by the scenic and lush Golden Gate Park and bounded on the west by Ocean Beach.\n",
      "</td></tr></tbody></table>\n",
      "<table style=\"border-collapse: separate; border-spacing: 2px;\">\n",
      "<tbody><tr>\n",
      "<td style=\"width:32px;background-color:#c38888;\"> </td>\n",
      "<td><b><a href=\"/wiki/San_Francisco/Twin_Peaks-Lake_Merced\" title=\"San Francisco/Twin Peaks-Lake Merced\">Twin Peaks-Lake Merced</a></b> <br/>Covering most of southwestern San Francisco, this area is home to many of the taller hills of San Francisco and the large Lake Merced park, which contains the San Francisco Zoo.\n",
      "</td></tr></tbody></table>\n",
      "<table style=\"border-collapse: separate; border-spacing: 2px;\">\n",
      "<tbody><tr>\n",
      "<td style=\"width:32px;background-color:#9c94cd;\"> </td>\n",
      "<td><b><a href=\"/wiki/San_Francisco/Castro-Noe_Valley\" title=\"San Francisco/Castro-Noe Valley\">Castro-Noe Valley</a></b> <br/>Colorful and cohesive, the Castro is historically known for being the cultural center of the city's LGBTQ community.  Nearby Noe Valley offers excellent restaurants and shops along pleasantly walkable streets.\n",
      "</td></tr></tbody></table>\n",
      "<table style=\"border-collapse: separate; border-spacing: 2px;\">\n",
      "<tbody><tr>\n",
      "<td style=\"width:32px;background-color:#c584ab;\"> </td>\n",
      "<td><b><a href=\"/wiki/San_Francisco/Mission\" title=\"San Francisco/Mission\">Mission</a></b> <br/>This vibrant area is home to a large Hispanic community as well as new urban artisans, and is a center of San Francisco night life. For visitors wishing to get off the beaten tourist paths and catch some local flavor, this is the place to go.\n",
      "</td></tr></tbody></table>\n",
      "<table style=\"border-collapse: separate; border-spacing: 2px;\">\n",
      "<tbody><tr>\n",
      "<td style=\"width:32px;background-color:#bfeb9c;\"> </td>\n",
      "<td><b><a href=\"/wiki/San_Francisco/Bernal_Heights\" title=\"San Francisco/Bernal Heights\">Bernal Heights</a></b> <br/>A charming neighborhood atop a hill on the southern side of the city and a cultural center for San Francisco's lesbian community.\n",
      "</td></tr></tbody></table>\n",
      "<table style=\"border-collapse: separate; border-spacing: 2px;\">\n",
      "<tbody><tr>\n",
      "<td style=\"width:32px;background-color:#c0b870;\"> </td>\n",
      "<td><b><a href=\"/wiki/San_Francisco/Southeast\" title=\"San Francisco/Southeast\">Southeast San Francisco</a></b> <br/>A mostly lower income residential area, this district contains several bay-side neighborhoods and many nice parks.\n",
      "</td></tr></tbody></table>\n",
      "</div>\n"
     ]
    }
   ],
   "source": [
    "districts = soup.find('div',attrs={'id': 'region_list'} )\n",
    "print districts"
   ]
  },
  {
   "cell_type": "code",
   "execution_count": 16,
   "metadata": {
    "scrolled": false
   },
   "outputs": [
    {
     "name": "stdout",
     "output_type": "stream",
     "text": [
      "30\n"
     ]
    }
   ],
   "source": [
    "neighborhoods = districts.findAll('td')\n",
    "print len(neighborhoods)"
   ]
  },
  {
   "cell_type": "code",
   "execution_count": 17,
   "metadata": {},
   "outputs": [
    {
     "name": "stdout",
     "output_type": "stream",
     "text": [
      "https://en.wikivoyage.org/wiki/San_Francisco/Golden_Gate\n",
      "https://en.wikivoyage.org/wiki/San_Francisco/Fisherman%27s_Wharf\n",
      "https://en.wikivoyage.org/wiki/San_Francisco/Nob_Hill-Russian_Hill\n",
      "https://en.wikivoyage.org/wiki/San_Francisco/Chinatown-North_Beach\n",
      "https://en.wikivoyage.org/wiki/San_Francisco/Union_Square-Financial_District\n",
      "https://en.wikivoyage.org/wiki/San_Francisco/Civic_Center-Tenderloin\n",
      "https://en.wikivoyage.org/wiki/San_Francisco/SoMa\n",
      "https://en.wikivoyage.org/wiki/San_Francisco/Western_Addition\n",
      "https://en.wikivoyage.org/wiki/San_Francisco/Haight\n",
      "https://en.wikivoyage.org/wiki/San_Francisco/The_Avenues\n",
      "https://en.wikivoyage.org/wiki/San_Francisco/Twin_Peaks-Lake_Merced\n",
      "https://en.wikivoyage.org/wiki/San_Francisco/Castro-Noe_Valley\n",
      "https://en.wikivoyage.org/wiki/San_Francisco/Mission\n",
      "https://en.wikivoyage.org/wiki/San_Francisco/Bernal_Heights\n",
      "https://en.wikivoyage.org/wiki/San_Francisco/Southeast\n"
     ]
    }
   ],
   "source": [
    "i = 0 \n",
    "while i < len(neighborhoods):\n",
    "    links = neighborhoods[i].findAll(href=True)\n",
    "    for link in links:\n",
    "        print(\"https://en.wikivoyage.org\"+link.attrs['href'])\n",
    "    i = i+1"
   ]
  },
  {
   "cell_type": "code",
   "execution_count": null,
   "metadata": {},
   "outputs": [],
   "source": []
  }
 ],
 "metadata": {
  "kernelspec": {
   "display_name": "Python 2",
   "language": "python",
   "name": "python2"
  },
  "language_info": {
   "codemirror_mode": {
    "name": "ipython",
    "version": 2
   },
   "file_extension": ".py",
   "mimetype": "text/x-python",
   "name": "python",
   "nbconvert_exporter": "python",
   "pygments_lexer": "ipython2",
   "version": "2.7.12"
  }
 },
 "nbformat": 4,
 "nbformat_minor": 2
}
