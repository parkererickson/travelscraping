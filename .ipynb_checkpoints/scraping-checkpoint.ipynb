{
 "cells": [
  {
   "cell_type": "code",
   "execution_count": 1,
   "metadata": {},
   "outputs": [],
   "source": [
    "import urllib2\n",
    "from bs4 import BeautifulSoup as bs\n",
    "import pandas as pd\n",
    "city = \"\""
   ]
  },
  {
   "cell_type": "code",
   "execution_count": 2,
   "metadata": {},
   "outputs": [
    {
     "name": "stdout",
     "output_type": "stream",
     "text": [
      "https://en.wikivoyage.org/wiki/Stockholm\n"
     ]
    }
   ],
   "source": [
    "url = 'https://en.wikivg/wiki/'+city.replace(\" \",\"_\")\n",
    "print url\n",
    "page = urllib2.urlopen(url)\n",
    "soup = bs(page, \"html.parser\")"
   ]
  },
  {
   "cell_type": "code",
   "execution_count": 3,
   "metadata": {},
   "outputs": [],
   "source": [
    "finalattr = []\n",
    "def get_attractions(finalLinks, finalattr):\n",
    "    for finalLink in finalLinks:\n",
    "        hoodPage = urllib2.urlopen(finalLink)\n",
    "        hoodSoup = bs(hoodPage, \"html.parser\")\n",
    "        attractions = hoodSoup.findAll('bdi',attrs={'class': 'vcard'}) \n",
    "        #print attractions\n",
    "        a = 0\n",
    "        while a < len(attractions):\n",
    "            for attr in attractions[a].findAll(\"b\"):\n",
    "                attr = attr.text\n",
    "            for address in attractions[a].findAll(\"bdi\", attrs={'class': 'adr listing-address street-address'}):\n",
    "                address = address.text\n",
    "            for description in attractions[a].findAll(\"bdi\", attrs={'class': 'note listing-content'}):\n",
    "                description = description.text\n",
    "            try:\n",
    "                attrinfo = [str(attr), str(address), str(description)]\n",
    "            except:\n",
    "                attrinfo = [attr, address, description]\n",
    "            finalattr.append(attrinfo)\n",
    "            a = a+1\n",
    "            \n",
    "    return(finalattr)\n",
    "    #print(finalattr)"
   ]
  },
  {
   "cell_type": "code",
   "execution_count": 4,
   "metadata": {
    "scrolled": false
   },
   "outputs": [
    {
     "name": "stdout",
     "output_type": "stream",
     "text": [
      "20\n"
     ]
    }
   ],
   "source": [
    "districts = soup.find('div',attrs={'id': 'region_list'} )\n",
    "try:\n",
    "    neighborhoods = districts.findAll('td')\n",
    "    print len(neighborhoods)\n",
    "except:\n",
    "    finalLinks = [url]\n",
    "    get_attractions(finalLinks)"
   ]
  },
  {
   "cell_type": "code",
   "execution_count": 5,
   "metadata": {},
   "outputs": [
    {
     "name": "stdout",
     "output_type": "stream",
     "text": [
      "https://en.wikivoyage.org/wiki/Stockholm/Norrmalm\n",
      "https://en.wikivoyage.org/wiki/Stockholm/Vasastan\n",
      "https://en.wikivoyage.org/wiki/Stockholm/%C3%96stermalm\n",
      "https://en.wikivoyage.org/wiki/Stockholm/Djurg%C3%A5rden\n",
      "https://en.wikivoyage.org/wiki/Stockholm/Gamla_Stan\n",
      "https://en.wikivoyage.org/wiki/Stockholm/S%C3%B6dermalm\n",
      "https://en.wikivoyage.org/wiki/Stockholm/Kungsholmen\n",
      "https://en.wikivoyage.org/wiki/Stockholm/V%C3%A4sterort,_Solna_and_Sundbyberg\n",
      "https://en.wikivoyage.org/wiki/Stockholm/S%C3%B6derort\n",
      "https://en.wikivoyage.org/wiki/World_Heritage_site\n",
      "https://en.wikivoyage.org/wiki/Liding%C3%B6\n"
     ]
    }
   ],
   "source": [
    "i = 0 \n",
    "finalLinks = []\n",
    "while i < len(neighborhoods):\n",
    "    links = neighborhoods[i].findAll(href=True)\n",
    "    for link in links:\n",
    "        formatLink = \"https://en.wikivoyage.org\"+link.attrs['href']\n",
    "        finalLinks.append(formatLink)\n",
    "        print formatLink\n",
    "    i = i+1"
   ]
  },
  {
   "cell_type": "code",
   "execution_count": 6,
   "metadata": {
    "scrolled": false
   },
   "outputs": [
    {
     "ename": "UnboundLocalError",
     "evalue": "local variable 'address' referenced before assignment",
     "output_type": "error",
     "traceback": [
      "\u001b[0;31m---------------------------------------------------------------------------\u001b[0m",
      "\u001b[0;31mUnboundLocalError\u001b[0m                         Traceback (most recent call last)",
      "\u001b[0;32m<ipython-input-6-9c1678cefad9>\u001b[0m in \u001b[0;36m<module>\u001b[0;34m()\u001b[0m\n\u001b[0;32m----> 1\u001b[0;31m \u001b[0mfinalAttractions\u001b[0m \u001b[0;34m=\u001b[0m \u001b[0mget_attractions\u001b[0m\u001b[0;34m(\u001b[0m\u001b[0mfinalLinks\u001b[0m\u001b[0;34m,\u001b[0m \u001b[0mfinalattr\u001b[0m\u001b[0;34m)\u001b[0m\u001b[0;34m\u001b[0m\u001b[0m\n\u001b[0m",
      "\u001b[0;32m<ipython-input-3-f69f42838b61>\u001b[0m in \u001b[0;36mget_attractions\u001b[0;34m(finalLinks, finalattr)\u001b[0m\n\u001b[1;32m     17\u001b[0m                 \u001b[0mattrinfo\u001b[0m \u001b[0;34m=\u001b[0m \u001b[0;34m[\u001b[0m\u001b[0mstr\u001b[0m\u001b[0;34m(\u001b[0m\u001b[0mattr\u001b[0m\u001b[0;34m)\u001b[0m\u001b[0;34m,\u001b[0m \u001b[0mstr\u001b[0m\u001b[0;34m(\u001b[0m\u001b[0maddress\u001b[0m\u001b[0;34m)\u001b[0m\u001b[0;34m,\u001b[0m \u001b[0mstr\u001b[0m\u001b[0;34m(\u001b[0m\u001b[0mdescription\u001b[0m\u001b[0;34m)\u001b[0m\u001b[0;34m]\u001b[0m\u001b[0;34m\u001b[0m\u001b[0m\n\u001b[1;32m     18\u001b[0m             \u001b[0;32mexcept\u001b[0m\u001b[0;34m:\u001b[0m\u001b[0;34m\u001b[0m\u001b[0m\n\u001b[0;32m---> 19\u001b[0;31m                 \u001b[0mattrinfo\u001b[0m \u001b[0;34m=\u001b[0m \u001b[0;34m[\u001b[0m\u001b[0mattr\u001b[0m\u001b[0;34m,\u001b[0m \u001b[0maddress\u001b[0m\u001b[0;34m,\u001b[0m \u001b[0mdescription\u001b[0m\u001b[0;34m]\u001b[0m\u001b[0;34m\u001b[0m\u001b[0m\n\u001b[0m\u001b[1;32m     20\u001b[0m             \u001b[0mfinalattr\u001b[0m\u001b[0;34m.\u001b[0m\u001b[0mappend\u001b[0m\u001b[0;34m(\u001b[0m\u001b[0mattrinfo\u001b[0m\u001b[0;34m)\u001b[0m\u001b[0;34m\u001b[0m\u001b[0m\n\u001b[1;32m     21\u001b[0m             \u001b[0ma\u001b[0m \u001b[0;34m=\u001b[0m \u001b[0ma\u001b[0m\u001b[0;34m+\u001b[0m\u001b[0;36m1\u001b[0m\u001b[0;34m\u001b[0m\u001b[0m\n",
      "\u001b[0;31mUnboundLocalError\u001b[0m: local variable 'address' referenced before assignment"
     ]
    }
   ],
   "source": [
    "finalAttractions = get_attractions(finalLinks, finalattr)"
   ]
  },
  {
   "cell_type": "code",
   "execution_count": 7,
   "metadata": {},
   "outputs": [
    {
     "ename": "NameError",
     "evalue": "name 'finalAttractions' is not defined",
     "output_type": "error",
     "traceback": [
      "\u001b[0;31m---------------------------------------------------------------------------\u001b[0m",
      "\u001b[0;31mNameError\u001b[0m                                 Traceback (most recent call last)",
      "\u001b[0;32m<ipython-input-7-cfe10eb5615c>\u001b[0m in \u001b[0;36m<module>\u001b[0;34m()\u001b[0m\n\u001b[0;32m----> 1\u001b[0;31m \u001b[0mfinalAttractions\u001b[0m \u001b[0;34m=\u001b[0m \u001b[0mpd\u001b[0m\u001b[0;34m.\u001b[0m\u001b[0mDataFrame\u001b[0m\u001b[0;34m(\u001b[0m\u001b[0mfinalAttractions\u001b[0m\u001b[0;34m,\u001b[0m \u001b[0mcolumns\u001b[0m\u001b[0;34m=\u001b[0m\u001b[0;34m[\u001b[0m\u001b[0;34m'Attraction'\u001b[0m\u001b[0;34m,\u001b[0m \u001b[0;34m'Address'\u001b[0m\u001b[0;34m,\u001b[0m \u001b[0;34m'Description'\u001b[0m\u001b[0;34m]\u001b[0m\u001b[0;34m)\u001b[0m\u001b[0;34m\u001b[0m\u001b[0m\n\u001b[0m\u001b[1;32m      2\u001b[0m \u001b[0mpd\u001b[0m\u001b[0;34m.\u001b[0m\u001b[0mDataFrame\u001b[0m\u001b[0;34m(\u001b[0m\u001b[0mfinalAttractions\u001b[0m\u001b[0;34m,\u001b[0m \u001b[0mcolumns\u001b[0m\u001b[0;34m=\u001b[0m\u001b[0;34m[\u001b[0m\u001b[0;34m'Attraction'\u001b[0m\u001b[0;34m,\u001b[0m \u001b[0;34m'Address'\u001b[0m\u001b[0;34m,\u001b[0m \u001b[0;34m'Description'\u001b[0m\u001b[0;34m]\u001b[0m\u001b[0;34m)\u001b[0m \u001b[0;31m#To get nice formatted print\u001b[0m\u001b[0;34m\u001b[0m\u001b[0m\n",
      "\u001b[0;31mNameError\u001b[0m: name 'finalAttractions' is not defined"
     ]
    }
   ],
   "source": [
    "finalAttractions = pd.DataFrame(finalAttractions, columns=['Attraction', 'Address', 'Description'])\n",
    "pd.DataFrame(finalAttractions, columns=['Attraction', 'Address', 'Description']) #To get nice formatted print"
   ]
  },
  {
   "cell_type": "code",
   "execution_count": 8,
   "metadata": {},
   "outputs": [],
   "source": [
    "learningInfo = finalAttractions.drop(columns=[\"Address\"])\n",
    "learningInfo.to_csv(city+'.csv', header=None, index=None, sep=',', encoding='utf-8', mode='w')"
   ]
  }
 ],
 "metadata": {
  "kernelspec": {
   "display_name": "Python 2",
   "language": "python",
   "name": "python2"
  },
  "language_info": {
   "codemirror_mode": {
    "name": "ipython",
    "version": 2
   },
   "file_extension": ".py",
   "mimetype": "text/x-python",
   "name": "python",
   "nbconvert_exporter": "python",
   "pygments_lexer": "ipython2",
   "version": "2.7.12"
  }
 },
 "nbformat": 4,
 "nbformat_minor": 2
}
